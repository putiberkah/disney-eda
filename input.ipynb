{
 "cells": [
  {
   "cell_type": "code",
   "execution_count": 1,
   "metadata": {},
   "outputs": [],
   "source": [
    "import pandas as pd\n",
    "import matplotlib.pyplot as plt\n",
    "import numpy as np\n",
    "\n",
    "disney = pd.read_csv(\"disney_plus_titles.csv\")"
   ]
  },
  {
   "cell_type": "code",
   "execution_count": 2,
   "metadata": {},
   "outputs": [
    {
     "name": "stdout",
     "output_type": "stream",
     "text": [
      "  show_id     type                                             title  \\\n",
      "0      s1    Movie  Duck the Halls: A Mickey Mouse Christmas Special   \n",
      "1      s2    Movie                            Ernest Saves Christmas   \n",
      "2      s3    Movie                      Ice Age: A Mammoth Christmas   \n",
      "3      s4    Movie                        The Queen Family Singalong   \n",
      "4      s5  TV Show                             The Beatles: Get Back   \n",
      "\n",
      "                            director  \\\n",
      "0  Alonso Ramirez Ramos, Dave Wasson   \n",
      "1                        John Cherry   \n",
      "2                       Karen Disher   \n",
      "3                    Hamish Hamilton   \n",
      "4                                NaN   \n",
      "\n",
      "                                                cast        country  \\\n",
      "0  Chris Diamantopoulos, Tony Anselmo, Tress MacN...            NaN   \n",
      "1           Jim Varney, Noelle Parker, Douglas Seale            NaN   \n",
      "2  Raymond Albert Romano, John Leguizamo, Denis L...  United States   \n",
      "3  Darren Criss, Adam Lambert, Derek Hough, Alexa...            NaN   \n",
      "4  John Lennon, Paul McCartney, George Harrison, ...            NaN   \n",
      "\n",
      "          date_added  release_year rating  duration  \\\n",
      "0  November 26, 2021          2016   TV-G    23 min   \n",
      "1  November 26, 2021          1988     PG    91 min   \n",
      "2  November 26, 2021          2011   TV-G    23 min   \n",
      "3  November 26, 2021          2021  TV-PG    41 min   \n",
      "4  November 25, 2021          2021    NaN  1 Season   \n",
      "\n",
      "                       listed_in  \\\n",
      "0              Animation, Family   \n",
      "1                         Comedy   \n",
      "2      Animation, Comedy, Family   \n",
      "3                        Musical   \n",
      "4  Docuseries, Historical, Music   \n",
      "\n",
      "                                         description  \n",
      "0   Join Mickey and the gang as they duck the halls!  \n",
      "1  Santa Claus passes his magic bag to a new St. ...  \n",
      "2          Sid the Sloth is on Santa's naughty list.  \n",
      "3               This is real life, not just fantasy!  \n",
      "4  A three-part documentary from Peter Jackson ca...  \n"
     ]
    }
   ],
   "source": [
    "print(disney.head())"
   ]
  },
  {
   "cell_type": "code",
   "execution_count": 3,
   "metadata": {},
   "outputs": [
    {
     "name": "stdout",
     "output_type": "stream",
     "text": [
      "(1450, 12)\n",
      "<class 'pandas.core.frame.DataFrame'>\n",
      "RangeIndex: 1450 entries, 0 to 1449\n",
      "Data columns (total 12 columns):\n",
      "show_id         1450 non-null object\n",
      "type            1450 non-null object\n",
      "title           1450 non-null object\n",
      "director        977 non-null object\n",
      "cast            1260 non-null object\n",
      "country         1231 non-null object\n",
      "date_added      1447 non-null object\n",
      "release_year    1450 non-null int64\n",
      "rating          1447 non-null object\n",
      "duration        1450 non-null object\n",
      "listed_in       1450 non-null object\n",
      "description     1450 non-null object\n",
      "dtypes: int64(1), object(11)\n",
      "memory usage: 136.1+ KB\n",
      "None\n"
     ]
    }
   ],
   "source": [
    "print(disney.shape)\n",
    "print(disney.info())"
   ]
  },
  {
   "cell_type": "code",
   "execution_count": 4,
   "metadata": {},
   "outputs": [
    {
     "name": "stdout",
     "output_type": "stream",
     "text": [
      "show_id           0\n",
      "type              0\n",
      "title             0\n",
      "director        473\n",
      "cast            190\n",
      "country         219\n",
      "date_added        3\n",
      "release_year      0\n",
      "rating            3\n",
      "duration          0\n",
      "listed_in         0\n",
      "description       0\n",
      "dtype: int64\n"
     ]
    }
   ],
   "source": [
    "print(disney.isnull().sum())"
   ]
  },
  {
   "cell_type": "code",
   "execution_count": 5,
   "metadata": {},
   "outputs": [
    {
     "name": "stdout",
     "output_type": "stream",
     "text": [
      "    show_id     type                           title            director  \\\n",
      "4        s5  TV Show           The Beatles: Get Back                 NaN   \n",
      "276    s277    Movie  Disney My Music Story: Perfume  Kentaro Takayanagi   \n",
      "280    s281  TV Show        Marvel Studios ASSEMBLED                 NaN   \n",
      "\n",
      "                                                  cast country  \\\n",
      "4    John Lennon, Paul McCartney, George Harrison, ...     NaN   \n",
      "276                        a-chan , KASHIYUKA , NOCCHi     NaN   \n",
      "280                                                NaN     NaN   \n",
      "\n",
      "            date_added  release_year rating  duration  \\\n",
      "4    November 25, 2021          2021    NaN  1 Season   \n",
      "276     March 19, 2021          2019    NaN    53 min   \n",
      "280     March 12, 2021          2021    NaN  1 Season   \n",
      "\n",
      "                            listed_in  \\\n",
      "4       Docuseries, Historical, Music   \n",
      "276  Biographical, Documentary, Music   \n",
      "280             Anthology, Docuseries   \n",
      "\n",
      "                                           description  \n",
      "4    A three-part documentary from Peter Jackson ca...  \n",
      "276  J-Pop band Perfume shares their passion for mu...  \n",
      "280  ASSEMBLED is an immersive series of docu-speci...  \n"
     ]
    }
   ],
   "source": [
    "print(disney[disney['rating'].isnull()])"
   ]
  },
  {
   "cell_type": "code",
   "execution_count": 6,
   "metadata": {},
   "outputs": [
    {
     "data": {
      "text/plain": [
       "array(['TV-G', 'PG', 'TV-PG', nan, 'PG-13', 'TV-14', 'G', 'TV-Y7', 'TV-Y',\n",
       "       'TV-Y7-FV'], dtype=object)"
      ]
     },
     "execution_count": 6,
     "metadata": {},
     "output_type": "execute_result"
    }
   ],
   "source": [
    "disney[\"rating\"].unique()"
   ]
  },
  {
   "cell_type": "code",
   "execution_count": 7,
   "metadata": {},
   "outputs": [],
   "source": [
    "disney.loc[4, [\"rating\"]] = [\"PG-13\"]"
   ]
  },
  {
   "cell_type": "code",
   "execution_count": 8,
   "metadata": {},
   "outputs": [],
   "source": [
    "disney.loc[276, [\"rating\"]] = [\"PG-13\"]\n",
    "disney.loc[280, [\"rating\"]] = [\"TV-14\"]"
   ]
  },
  {
   "cell_type": "code",
   "execution_count": 9,
   "metadata": {
    "scrolled": true
   },
   "outputs": [
    {
     "name": "stdout",
     "output_type": "stream",
     "text": [
      "show_id           0\n",
      "type              0\n",
      "title             0\n",
      "director        473\n",
      "cast            190\n",
      "country         219\n",
      "date_added        3\n",
      "release_year      0\n",
      "rating            0\n",
      "duration          0\n",
      "listed_in         0\n",
      "description       0\n",
      "dtype: int64\n"
     ]
    }
   ],
   "source": [
    "print(disney.isnull().sum())"
   ]
  },
  {
   "cell_type": "code",
   "execution_count": 10,
   "metadata": {},
   "outputs": [],
   "source": [
    "disney[\"director\"] = disney[\"director\"].fillna(\"unknown\")"
   ]
  },
  {
   "cell_type": "code",
   "execution_count": 11,
   "metadata": {},
   "outputs": [],
   "source": [
    "disney[\"cast\"] = disney[\"cast\"].fillna(\"unknown\")"
   ]
  },
  {
   "cell_type": "code",
   "execution_count": 12,
   "metadata": {},
   "outputs": [],
   "source": [
    "disney[\"country\"] = disney[\"country\"].fillna(\"unknown\")"
   ]
  },
  {
   "cell_type": "code",
   "execution_count": 13,
   "metadata": {},
   "outputs": [],
   "source": [
    "disney[\"date_added\"] = disney[\"date_added\"].fillna(\"unknown\")"
   ]
  },
  {
   "cell_type": "code",
   "execution_count": 14,
   "metadata": {},
   "outputs": [
    {
     "name": "stdout",
     "output_type": "stream",
     "text": [
      "show_id         0\n",
      "type            0\n",
      "title           0\n",
      "director        0\n",
      "cast            0\n",
      "country         0\n",
      "date_added      0\n",
      "release_year    0\n",
      "rating          0\n",
      "duration        0\n",
      "listed_in       0\n",
      "description     0\n",
      "dtype: int64\n"
     ]
    }
   ],
   "source": [
    "print(disney.isnull().sum())"
   ]
  },
  {
   "cell_type": "code",
   "execution_count": 15,
   "metadata": {},
   "outputs": [
    {
     "name": "stdout",
     "output_type": "stream",
     "text": [
      "0\n"
     ]
    }
   ],
   "source": [
    "duplicated = disney.duplicated()\n",
    "print(duplicated.sum())"
   ]
  },
  {
   "cell_type": "code",
   "execution_count": 16,
   "metadata": {},
   "outputs": [
    {
     "data": {
      "text/plain": [
       "array(['23 min', '91 min', '41 min', '1 Season', '94 min', '2 Seasons',\n",
       "       '45 min', '59 min', '4 min', '10 Seasons', '2 min', '1 min',\n",
       "       '8 min', '3 Seasons', '110 min', '11 min', '7 min', '95 min',\n",
       "       '129 min', '14 min', '5 min', '134 min', '9 min', '30 min',\n",
       "       '6 min', '22 min', '3 min', '87 min', '90 min', '93 min',\n",
       "       '101 min', '132 min', '44 min', '131 min', '104 min', '5 Seasons',\n",
       "       '52 min', '47 min', '53 min', '85 min', '92 min', '135 min',\n",
       "       '4 Seasons', '105 min', '99 min', '32 Seasons', '88 min',\n",
       "       '127 min', '106 min', '116 min', '42 min', '16 Seasons', '140 min',\n",
       "       '19 Seasons', '66 min', '115 min', '137 min', '9 Seasons',\n",
       "       '126 min', '82 min', '125 min', '54 min', '7 Seasons', '98 min',\n",
       "       '102 min', '80 min', '170 min', '97 min', '112 min', '21 min',\n",
       "       '20 min', '15 min', '19 min', '79 min', '6 Seasons', '89 min',\n",
       "       '18 min', '81 min', '148 min', '121 min', '96 min', '109 min',\n",
       "       '107 min', '86 min', '24 min', '8 Seasons', '12 min', '65 min',\n",
       "       '48 min', '111 min', '43 min', '180 min', '182 min', '60 min',\n",
       "       '50 min', '46 min', '123 min', '113 min', '117 min', '83 min',\n",
       "       '103 min', '122 min', '72 min', '143 min', '84 min', '128 min',\n",
       "       '138 min', '120 min', '118 min', '55 min', '56 min', '144 min',\n",
       "       '33 min', '100 min', '160 min', '49 min', '152 min', '75 min',\n",
       "       '108 min', '78 min', '119 min', '147 min', '142 min', '32 min',\n",
       "       '31 min', '27 min', '77 min', '25 min', '74 min', '62 min',\n",
       "       '71 min', '162 min', '73 min', '114 min', '10 min', '64 min',\n",
       "       '51 min', '151 min', '76 min', '26 min', '130 min', '70 min',\n",
       "       '13 min', '183 min', '150 min', '145 min', '67 min', '169 min',\n",
       "       '61 min', '63 min', '124 min', '139 min', '136 min', '58 min',\n",
       "       '69 min', '154 min', '175 min', '68 min'], dtype=object)"
      ]
     },
     "execution_count": 16,
     "metadata": {},
     "output_type": "execute_result"
    }
   ],
   "source": [
    "disney['duration'].unique()"
   ]
  },
  {
   "cell_type": "code",
   "execution_count": 17,
   "metadata": {
    "scrolled": false
   },
   "outputs": [
    {
     "data": {
      "image/png": "[encoded data removed]",
      "text/plain": [
       "<Figure size 432x288 with 1 Axes>"
      ]
     },
     "metadata": {
      "needs_background": "light"
     },
     "output_type": "display_data"
    }
   ],
   "source": [
    "plt.hist(disney['release_year'], rwidth=0.9)\n",
    "plt.title('Release Year')\n",
    "plt.xlabel('Year')\n",
    "plt.ylabel('Count')\n",
    "plt.show()"
   ]
  },
  {
   "cell_type": "code",
   "execution_count": 21,
   "metadata": {
    "scrolled": true
   },
   "outputs": [
    {
     "data": {
      "image/png": "[encoded data removed]",
      "text/plain": [
       "<Figure size 720x288 with 1 Axes>"
      ]
     },
     "metadata": {
      "needs_background": "light"
     },
     "output_type": "display_data"
    }
   ],
   "source": [
    "fig = plt.figure(figsize=(10,4))\n",
    "n, bins, patches = plt.hist(disney['release_year'])\n",
    "\n",
    "plt.xticks(bins)\n",
    "plt.grid(axis='x', lw = 0.5)\n",
    "\n",
    "plt.title('Release Year')\n",
    "plt.xlabel('Year')\n",
    "plt.ylabel('Count')\n",
    "plt.show()"
   ]
  },
  {
   "cell_type": "code",
   "execution_count": 19,
   "metadata": {},
   "outputs": [
    {
     "data": {
      "image/png": "[encoded data removed]",
      "text/plain": [
       "<Figure size 432x288 with 1 Axes>"
      ]
     },
     "metadata": {
      "needs_background": "light"
     },
     "output_type": "display_data"
    }
   ],
   "source": [
    "disney_movie = disney[disney['type'] == 'Movie']\n",
    "disney_tv = disney[disney['type'] == 'TV Show']\n",
    "\n",
    "plt.hist(disney_movie['release_year'], bins=10, label='Movie')\n",
    "plt.hist(disney_tv['release_year'], bins=10, label='TV Show')\n",
    "plt.legend()\n",
    "plt.title('Release Year')\n",
    "plt.xlabel('Year')\n",
    "plt.ylabel('Count')\n",
    "\n",
    "plt.show()"
   ]
  },
  {
   "cell_type": "code",
   "execution_count": null,
   "metadata": {},
   "outputs": [],
   "source": []
  }
 ],
 "metadata": {
  "kernelspec": {
   "display_name": "Python 3",
   "language": "python",
   "name": "python3"
  },
  "language_info": {
   "codemirror_mode": {
    "name": "ipython",
    "version": 3
   },
   "file_extension": ".py",
   "mimetype": "text/x-python",
   "name": "python",
   "nbconvert_exporter": "python",
   "pygments_lexer": "ipython3",
   "version": "3.8.10"
  }
 },
 "nbformat": 4,
 "nbformat_minor": 4
}
